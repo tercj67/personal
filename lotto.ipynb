{
 "cells": [
  {
   "cell_type": "code",
   "execution_count": 2,
   "metadata": {},
   "outputs": [],
   "source": [
    "from pandas import json_normalize\n",
    "import pandas as pd\n",
    "from datetime import datetime, timedelta\n",
    "from urllib.request import urlopen\n",
    "import json"
   ]
  },
  {
   "cell_type": "code",
   "execution_count": 3,
   "metadata": {},
   "outputs": [
    {
     "data": {
      "text/html": [
       "<div>\n",
       "<style scoped>\n",
       "    .dataframe tbody tr th:only-of-type {\n",
       "        vertical-align: middle;\n",
       "    }\n",
       "\n",
       "    .dataframe tbody tr th {\n",
       "        vertical-align: top;\n",
       "    }\n",
       "\n",
       "    .dataframe thead th {\n",
       "        text-align: right;\n",
       "    }\n",
       "</style>\n",
       "<table border=\"1\" class=\"dataframe\">\n",
       "  <thead>\n",
       "    <tr style=\"text-align: right;\">\n",
       "      <th></th>\n",
       "      <th>draw_date</th>\n",
       "      <th>midday_daily</th>\n",
       "      <th>evening_daily</th>\n",
       "      <th>midday_win_4</th>\n",
       "      <th>evening_win_4</th>\n",
       "      <th>date</th>\n",
       "    </tr>\n",
       "  </thead>\n",
       "  <tbody>\n",
       "    <tr>\n",
       "      <th>0</th>\n",
       "      <td>2022-03-10T00:00:00.000</td>\n",
       "      <td>069</td>\n",
       "      <td>391</td>\n",
       "      <td>2850</td>\n",
       "      <td>3805</td>\n",
       "      <td>2022-03-10</td>\n",
       "    </tr>\n",
       "    <tr>\n",
       "      <th>1</th>\n",
       "      <td>2022-03-09T00:00:00.000</td>\n",
       "      <td>893</td>\n",
       "      <td>966</td>\n",
       "      <td>2266</td>\n",
       "      <td>1856</td>\n",
       "      <td>2022-03-09</td>\n",
       "    </tr>\n",
       "    <tr>\n",
       "      <th>2</th>\n",
       "      <td>2022-03-08T00:00:00.000</td>\n",
       "      <td>902</td>\n",
       "      <td>088</td>\n",
       "      <td>5047</td>\n",
       "      <td>4534</td>\n",
       "      <td>2022-03-08</td>\n",
       "    </tr>\n",
       "    <tr>\n",
       "      <th>3</th>\n",
       "      <td>2022-03-07T00:00:00.000</td>\n",
       "      <td>397</td>\n",
       "      <td>583</td>\n",
       "      <td>4088</td>\n",
       "      <td>4900</td>\n",
       "      <td>2022-03-07</td>\n",
       "    </tr>\n",
       "    <tr>\n",
       "      <th>4</th>\n",
       "      <td>2022-03-06T00:00:00.000</td>\n",
       "      <td>087</td>\n",
       "      <td>557</td>\n",
       "      <td>6100</td>\n",
       "      <td>0521</td>\n",
       "      <td>2022-03-06</td>\n",
       "    </tr>\n",
       "  </tbody>\n",
       "</table>\n",
       "</div>"
      ],
      "text/plain": [
       "                 draw_date midday_daily evening_daily midday_win_4  \\\n",
       "0  2022-03-10T00:00:00.000          069           391         2850   \n",
       "1  2022-03-09T00:00:00.000          893           966         2266   \n",
       "2  2022-03-08T00:00:00.000          902           088         5047   \n",
       "3  2022-03-07T00:00:00.000          397           583         4088   \n",
       "4  2022-03-06T00:00:00.000          087           557         6100   \n",
       "\n",
       "  evening_win_4       date  \n",
       "0          3805 2022-03-10  \n",
       "1          1856 2022-03-09  \n",
       "2          4534 2022-03-08  \n",
       "3          4900 2022-03-07  \n",
       "4          0521 2022-03-06  "
      ]
     },
     "execution_count": 3,
     "metadata": {},
     "output_type": "execute_result"
    }
   ],
   "source": [
    "json_file = urlopen(\"https://data.ny.gov/resource/hsys-3def.json\").read()\n",
    "json_data = json.loads(json_file)\n",
    "json_dataN = json_normalize(json_data)\n",
    "json_dataN['date'] = pd.to_datetime(json_dataN['draw_date'])\n",
    "json_dataN = json_dataN[json_dataN['date'] >= (datetime.today() - timedelta(days=90)).strftime('%Y-%m-%d')]\n",
    "json_dataN.head()"
   ]
  },
  {
   "cell_type": "code",
   "execution_count": 4,
   "metadata": {},
   "outputs": [
    {
     "data": {
      "text/plain": [
       "7    63\n",
       "9    60\n",
       "0    58\n",
       "4    58\n",
       "1    57\n",
       "8    51\n",
       "5    51\n",
       "6    49\n",
       "2    46\n",
       "3    41\n",
       "dtype: int64"
      ]
     },
     "execution_count": 4,
     "metadata": {},
     "output_type": "execute_result"
    }
   ],
   "source": [
    "json_dataN_numbers = pd.DataFrame(pd.concat([json_dataN['midday_daily'],json_dataN['evening_daily']]))\n",
    "json_dataN_numbers.columns = ['numbers']\n",
    "json_dataN_numbers['numbers1'] = json_dataN_numbers['numbers'].astype(str).str[0]\n",
    "json_dataN_numbers['numbers2'] = json_dataN_numbers['numbers'].astype(str).str[1]\n",
    "json_dataN_numbers['numbers3'] = json_dataN_numbers['numbers'].astype(str).str[2]\n",
    "pd.concat([json_dataN_numbers['numbers1'],json_dataN_numbers['numbers2'],json_dataN_numbers['numbers3']]).value_counts()"
   ]
  },
  {
   "cell_type": "code",
   "execution_count": 5,
   "metadata": {},
   "outputs": [
    {
     "data": {
      "text/plain": [
       "8    86\n",
       "0    82\n",
       "5    77\n",
       "6    69\n",
       "9    68\n",
       "3    68\n",
       "4    67\n",
       "2    66\n",
       "7    66\n",
       "1    63\n",
       "dtype: int64"
      ]
     },
     "execution_count": 5,
     "metadata": {},
     "output_type": "execute_result"
    }
   ],
   "source": [
    "json_dataN_win4 = pd.DataFrame(pd.concat([json_dataN['midday_win_4'],json_dataN['evening_win_4']]))\n",
    "json_dataN_win4.columns = ['4numbers']\n",
    "json_dataN_win4['4numbers1'] = json_dataN_win4['4numbers'].astype(str).str[0]\n",
    "json_dataN_win4['4numbers2'] = json_dataN_win4['4numbers'].astype(str).str[1]\n",
    "json_dataN_win4['4numbers3'] = json_dataN_win4['4numbers'].astype(str).str[2]\n",
    "json_dataN_win4['4numbers4'] = json_dataN_win4['4numbers'].astype(str).str[3]\n",
    "pd.concat([json_dataN_win4['4numbers1'],json_dataN_win4['4numbers2'],json_dataN_win4['4numbers3'],json_dataN_win4['4numbers4']]).value_counts()"
   ]
  }
 ],
 "metadata": {
  "kernelspec": {
   "display_name": "Python 3",
   "language": "python",
   "name": "python3"
  },
  "language_info": {
   "codemirror_mode": {
    "name": "ipython",
    "version": 3
   },
   "file_extension": ".py",
   "mimetype": "text/x-python",
   "name": "python",
   "nbconvert_exporter": "python",
   "pygments_lexer": "ipython3",
   "version": "3.8.8"
  }
 },
 "nbformat": 4,
 "nbformat_minor": 2
}
